{
 "cells": [
  {
   "cell_type": "markdown",
   "metadata": {},
   "source": [
    "## Schema d'Euler explicite\n",
    "\n",
    "### Introduction\n",
    "\n",
    "Dans ce notebook Jupyter, nous allons implémenter le shema d'Euler explicite pour l'intégration des équations différentielles ordinaires de type:\n",
    "\n",
    "$$\\dot x = f(x)$$\n",
    "\n",
    "Le schema numérique se base sur le développement limité à l'ordre 1 d'une solution $\\phi(t)$ de l'EDO autour du temps initial $t_0$ pour calculer la solution à un temps $t_0+h$ avec $h$ petit :\n",
    "\n",
    "$$\\phi(t_0+h) = \\phi(t_0) + \\frac{d \\phi(t_0)}{dt} (t_0+h-t_0) + o(|t_0+h-t_0|)$$\n",
    "\n",
    "En exploitant le fait que $\\phi(t)$ est solution de l'EDO, on obtient :\n",
    "\n",
    "$$\\phi(t_0+h) = \\phi(t_0) + f(\\phi(t_0))h+o(h)$$\n",
    "\n",
    "qui nous donne une valeur approchée de la solution $\\phi(t)$ en $t=t_0+h$.\n",
    "\n",
    "En itérant depuis $\\phi(t_0+h)$, on obtient une valeur approchée de la solution en $t=t_0+2h$ et ainsi de suite de proche en proche tous les pas de temps $h$.\n",
    "\n",
    "---\n",
    "### Principe de l'algorithme\n",
    "\n",
    "Pour calculer une approximation numérique de la solution au problème de Cauchy:\n",
    "\n",
    "$$\\begin{array}{l}\n",
    "\\dot x = f(x),\\\\\n",
    "x(t_0) = x_0,\n",
    "\\end{array}$$\n",
    "\n",
    "sur l'intervalle de temps $[t_0, t_f]$ tous les pas de temps $h$, nous allons construire:\n",
    "- un vecteur `tspan` qui balayera le temps depuis $t_0$ jusque $t_f$ tous les pas de temps $h$\n",
    "- un vecteur `phi` qui sera l'approximation numérique de la solution le long du vecteur temps `tspan` et qui sera construit de manière itérative ainsi :\n",
    "    - la première coordonnée de phi est $x_0$\n",
    "    - la coordonnée $(i+1)$ de `phi` est égale à la coordonnée $i$ de `phi` additionnée à $f(.)$ appliquée à la coordonnée $i$ de `phi` multipliée par le pas de temps $h$: `phi[i+1] = phi[i] + f(phi[i])*h`"
   ]
  },
  {
   "cell_type": "markdown",
   "metadata": {},
   "source": [
    "---\n",
    "### Algorithme avec Python\n",
    "\n",
    "Nous nous baserons sur l'exemple :\n",
    "\n",
    "$$\\dot x = rx.$$\n",
    "\n",
    "Pour créer un vecteur de type `tspan` et représenter graphiquement nos calculs, nous importons les modules `numpy` et `matplotlib`\n"
   ]
  },
  {
   "cell_type": "code",
   "execution_count": 1,
   "metadata": {},
   "outputs": [],
   "source": [
    "# import des modules numpy, matplotlib avec les alias usuels np et plt\n",
    "import numpy as np\n",
    "import matplotlib.pyplot as plt"
   ]
  },
  {
   "cell_type": "markdown",
   "metadata": {},
   "source": [
    "Nous définissons les paramètres liés au temps :"
   ]
  },
  {
   "cell_type": "code",
   "execution_count": 2,
   "metadata": {},
   "outputs": [],
   "source": [
    " # parametres liés au temps\n",
    "t0 = 0       # temps initial\n",
    "tf = 5       # temps final\n",
    "h = .01       # pas de temps de tspan"
   ]
  },
  {
   "cell_type": "markdown",
   "metadata": {},
   "source": [
    "Ce qui permet de définir l'array `tspan` en utilisant la fonction `arange` de `numpy` :"
   ]
  },
  {
   "cell_type": "code",
   "execution_count": 107,
   "metadata": {},
   "outputs": [
    {
     "data": {
      "text/plain": [
       "array([0.  , 0.01, 0.02, 0.03, 0.04, 0.05, 0.06, 0.07, 0.08, 0.09])"
      ]
     },
     "execution_count": 107,
     "metadata": {},
     "output_type": "execute_result"
    }
   ],
   "source": [
    "tspan = np.arange(start = t0, stop = tf, step = h)   # l'utilisation est assez explicite je pense\n",
    "tspan[:10]                                           # on vérifie ce qui est généré "
   ]
  },
  {
   "cell_type": "markdown",
   "metadata": {},
   "source": [
    "On définit ensuite les paramètres de l'EDO (ici $r$) et la condition initiale $x_0$ :"
   ]
  },
  {
   "cell_type": "code",
   "execution_count": 109,
   "metadata": {},
   "outputs": [],
   "source": [
    "# paramètre(s) de l'EDO\n",
    "r = 1        # par exemple\n",
    "\n",
    "# condition initiale \n",
    "x0 = 1       # par exemple"
   ]
  },
  {
   "cell_type": "markdown",
   "metadata": {},
   "source": [
    "---\n",
    "Nous sommes prêt pour générer notre approximation de la solution `phi`. \n",
    " \n",
    "Pour cela nous allons faire une boucle sur le temps `tspan`, et ajouter à chaque itération à la fin de l'array `phi` le résultat de notre approximation (cf. plus haut) après avoir initialisé l'array `phi` en $x_0$. \n",
    "\n",
    "Pour cela nous utilisons la méthode `append()` des objets array de Python, qui colle la valeur entrée en argument à la fin de l'array."
   ]
  },
  {
   "cell_type": "code",
   "execution_count": 110,
   "metadata": {},
   "outputs": [],
   "source": [
    "phi = np.array([x0])    # nous initialisons phi sous la forme d'un array (d'où les crochets) en x0\n",
    "\n",
    "for t in tspan[1:]:\n",
    "    next_phi = phi[-1] + (r * phi[-1])*h      # a chaque iteration (i.e. pour chaque pas de temps) nous calculons phi au temps t+h, à partir de la valeur \n",
    "                                              # de phi à la fin de l'array (i.e. au temps t)\n",
    "    phi = np.append(phi, next_phi)            # nous reassignons dans phi l'array construit a partir du phi calculé à l'itération precedente (de t0 à t)\n",
    "                                              # et de phi au temps t+h"
   ]
  },
  {
   "cell_type": "markdown",
   "metadata": {},
   "source": [
    "Cette méthode basée sur `np.append` fonctionne :"
   ]
  },
  {
   "cell_type": "code",
   "execution_count": 111,
   "metadata": {},
   "outputs": [
    {
     "data": {
      "text/plain": [
       "array([1.        , 1.01      , 1.0201    , 1.030301  , 1.04060401,\n",
       "       1.05101005, 1.06152015, 1.07213535, 1.08285671, 1.09368527])"
      ]
     },
     "execution_count": 111,
     "metadata": {},
     "output_type": "execute_result"
    }
   ],
   "source": [
    "phi[:10]       # on evalue le calcul fait"
   ]
  },
  {
   "cell_type": "markdown",
   "metadata": {},
   "source": [
    "**Cette méthode est cependant dramatiquement peu efficace a cause de l'utilisation de `np.append` crée une copie de l'array `phi` à chaque itération.**\n",
    "\n",
    "---\n",
    "Il est préférable de créer un array `phi` de la bonne taille initiale, et de lui spécifier ensuite la valeur de chacun de ses éléments en modifiant les éléments du tableau en place."
   ]
  },
  {
   "cell_type": "code",
   "execution_count": 112,
   "metadata": {},
   "outputs": [],
   "source": [
    "phi2 = np.zeros(tspan.shape)    # nous initialisons phi sous la forme d'un array (d'où les crochets) en x0\n",
    "\n",
    "phi2[0] = x0\n",
    "\n",
    "for i in range(len(tspan[:-1])):\n",
    "    phi2[i+1] = phi2[i] + r * phi2[i] * h"
   ]
  },
  {
   "cell_type": "code",
   "execution_count": 113,
   "metadata": {},
   "outputs": [
    {
     "data": {
      "text/plain": [
       "array([1.        , 1.01      , 1.0201    , 1.030301  , 1.04060401,\n",
       "       1.05101005, 1.06152015, 1.07213535, 1.08285671, 1.09368527])"
      ]
     },
     "execution_count": 113,
     "metadata": {},
     "output_type": "execute_result"
    }
   ],
   "source": [
    "phi2[:10]"
   ]
  },
  {
   "cell_type": "markdown",
   "metadata": {},
   "source": [
    "\n",
    "Les deux calculs sont les mêmes, mais le second va presque 10 fois plus vite !"
   ]
  },
  {
   "cell_type": "code",
   "execution_count": 114,
   "metadata": {},
   "outputs": [
    {
     "name": "stdout",
     "output_type": "stream",
     "text": [
      "1.95 ms ± 7.04 µs per loop (mean ± std. dev. of 7 runs, 1000 loops each)\n"
     ]
    }
   ],
   "source": [
    "%%timeit\n",
    "\n",
    "phi = np.array([x0])    # nous initialisons phi sous la forme d'un array de la taille de tspan\n",
    "\n",
    "for t in tspan[1:]:\n",
    "    next_phi = phi[-1] + (r * phi[-1])*h      # a chaque iteration (i.e. pour chaque pas de temps) nous calculons phi au temps t+h, à partir de la valeur \n",
    "                                              # de phi à la fin de l'array (i.e. au temps t)\n",
    "    phi = np.append(phi, next_phi)            # nous reassignons dans phi l'array construit a partir du phi calculé à l'itération precedente (de t0 à t)\n",
    "                                              # et de phi au temps t+h"
   ]
  },
  {
   "cell_type": "code",
   "execution_count": 115,
   "metadata": {},
   "outputs": [
    {
     "name": "stdout",
     "output_type": "stream",
     "text": [
      "252 µs ± 5.29 µs per loop (mean ± std. dev. of 7 runs, 1000 loops each)\n"
     ]
    }
   ],
   "source": [
    "%%timeit\n",
    "\n",
    "phi2 = np.zeros(tspan.shape)    # nous initialisons phi sous la forme d'un array de la taille de tspan\n",
    "\n",
    "phi2[0] = x0\n",
    "\n",
    "for i in range(len(tspan[:-1])):\n",
    "    phi2[i+1] = phi2[i] + r * phi2[i] * h"
   ]
  },
  {
   "cell_type": "markdown",
   "metadata": {},
   "source": [
    "---\n",
    "### Pour terminer, représentation graphique\n",
    "\n",
    "en utilisant la fonction `plot()` de `matplotlib` :"
   ]
  },
  {
   "cell_type": "code",
   "execution_count": 116,
   "metadata": {},
   "outputs": [
    {
     "data": {
      "text/plain": [
       "Text(0.5, 0, 'Temps $t$')"
      ]
     },
     "execution_count": 116,
     "metadata": {},
     "output_type": "execute_result"
    },
    {
     "data": {
      "image/png": "[encoded data removed]",
      "text/plain": [
       "<Figure size 432x288 with 1 Axes>"
      ]
     },
     "metadata": {
      "needs_background": "light"
     },
     "output_type": "display_data"
    }
   ],
   "source": [
    "plt.plot(tspan, phi2)\n",
    "\n",
    "plt.ylabel('Variable $x(t)$')\n",
    "plt.xlabel('Temps $t$')"
   ]
  },
  {
   "cell_type": "markdown",
   "metadata": {},
   "source": [
    "---\n",
    "### Allons un peu plus loin\n",
    "\n",
    "\n",
    "**On pourrait améliorer ce code de bien des façons, notamment :**\n",
    "- faire une/des fonctions pour l'EDO à résoudre numériquement\n",
    "- faire une fonction qui réalise la résolution numérique de l'EDO\n",
    "\n",
    "les deux choses sont relativement simples à faire"
   ]
  },
  {
   "cell_type": "code",
   "execution_count": 117,
   "metadata": {},
   "outputs": [],
   "source": [
    "# une equation différentielle simple \\dot x = 2*x\n",
    "def lineaire(x, r=1):\n",
    "    return r*x"
   ]
  },
  {
   "cell_type": "code",
   "execution_count": 118,
   "metadata": {},
   "outputs": [],
   "source": [
    "# une equation différentielle plus compliquée \\dot x = x*(1-x/10)\n",
    "def logistique(x, r=1, K=10):\n",
    "    return r*x*(1-x/K)"
   ]
  },
  {
   "cell_type": "code",
   "execution_count": 119,
   "metadata": {},
   "outputs": [],
   "source": [
    "# une fonction qui intègre une équation différentielle\n",
    "def mon_integrateur_euler(mon_edo):\n",
    "    psi = np.zeros(tspan.shape)    \n",
    "    psi[0] = x0\n",
    "\n",
    "    for i in range(len(tspan[:-1])):\n",
    "        psi[i+1] = psi[i] + mon_edo(psi[i]) * h\n",
    "        \n",
    "    return psi"
   ]
  },
  {
   "cell_type": "markdown",
   "metadata": {},
   "source": [
    "---\n",
    "Intégrons maintenant l'EDO linéaire :"
   ]
  },
  {
   "cell_type": "code",
   "execution_count": 120,
   "metadata": {},
   "outputs": [
    {
     "data": {
      "text/plain": [
       "Text(0.5, 0, 'Temps $t$')"
      ]
     },
     "execution_count": 120,
     "metadata": {},
     "output_type": "execute_result"
    },
    {
     "data": {
      "image/png": "[encoded data removed]",
      "text/plain": [
       "<Figure size 432x288 with 1 Axes>"
      ]
     },
     "metadata": {
      "needs_background": "light"
     },
     "output_type": "display_data"
    }
   ],
   "source": [
    "phi3 = mon_integrateur_euler(lineaire)\n",
    "\n",
    "plt.plot(tspan, phi3)\n",
    "\n",
    "plt.ylabel('Variable $x(t)$')\n",
    "plt.xlabel('Temps $t$')"
   ]
  },
  {
   "cell_type": "markdown",
   "metadata": {},
   "source": [
    "---\n",
    "Intégrons l'EDO logistique :"
   ]
  },
  {
   "cell_type": "code",
   "execution_count": 121,
   "metadata": {},
   "outputs": [
    {
     "data": {
      "text/plain": [
       "Text(0.5, 0, 'Temps $t$')"
      ]
     },
     "execution_count": 121,
     "metadata": {},
     "output_type": "execute_result"
    },
    {
     "data": {
      "image/png": "[encoded data removed]",
      "text/plain": [
       "<Figure size 432x288 with 1 Axes>"
      ]
     },
     "metadata": {
      "needs_background": "light"
     },
     "output_type": "display_data"
    }
   ],
   "source": [
    "phi_else = mon_integrateur_euler(logistique)\n",
    "\n",
    "plt.plot(tspan, phi_else)\n",
    "\n",
    "plt.ylabel('Variable $x(t)$')\n",
    "plt.xlabel('Temps $t$')"
   ]
  },
  {
   "cell_type": "markdown",
   "metadata": {},
   "source": [
    "---"
   ]
  },
  {
   "cell_type": "markdown",
   "metadata": {},
   "source": [
    "## Utilisation de la routine `odeint` de numpy\n",
    "\n",
    "Bien des schemas numériques plus précis que l'algorithme d'Euler existent. Une partie est accessible via la routine d'intégration de `scipy.integrate`."
   ]
  },
  {
   "cell_type": "code",
   "execution_count": 122,
   "metadata": {},
   "outputs": [],
   "source": [
    "# import de la fonction odeint\n",
    "from scipy.integrate import odeint"
   ]
  },
  {
   "cell_type": "code",
   "execution_count": 123,
   "metadata": {},
   "outputs": [],
   "source": [
    "def lineaire_odeint(x, t):\n",
    "    xdot = r*x\n",
    "    return xdot"
   ]
  },
  {
   "cell_type": "code",
   "execution_count": 132,
   "metadata": {},
   "outputs": [],
   "source": [
    "# intégration proprement dite\n",
    "simul = odeint(lineaire_odeint, x0, tspan, hmax=h)"
   ]
  },
  {
   "cell_type": "code",
   "execution_count": 152,
   "metadata": {},
   "outputs": [],
   "source": [
    "# différence entre la solution mathématique et la simulation\n",
    "diff0 = x0*np.exp(r*tspan) - phi3  # euler\n",
    "diff1 = x0*np.exp(r*tspan) - simul.flatten()  # via odeint"
   ]
  },
  {
   "cell_type": "code",
   "execution_count": 153,
   "metadata": {},
   "outputs": [
    {
     "data": {
      "text/plain": [
       "<matplotlib.legend.Legend at 0x7fa964ccadf0>"
      ]
     },
     "execution_count": 153,
     "metadata": {},
     "output_type": "execute_result"
    },
    {
     "data": {
      "image/png": "[encoded data removed]",
      "text/plain": [
       "<Figure size 432x288 with 1 Axes>"
      ]
     },
     "metadata": {
      "needs_background": "light"
     },
     "output_type": "display_data"
    }
   ],
   "source": [
    "plt.plot(tspan, diff0, 'C0', label='euler')\n",
    "plt.plot(tspan, diff1,'C1', label='odeint')\n",
    "\n",
    "plt.legend()"
   ]
  },
  {
   "cell_type": "code",
   "execution_count": null,
   "metadata": {},
   "outputs": [],
   "source": []
  }
 ],
 "metadata": {
  "kernelspec": {
   "display_name": "Python MAM",
   "language": "python",
   "name": "python_mam"
  },
  "language_info": {
   "codemirror_mode": {
    "name": "ipython",
    "version": 3
   },
   "file_extension": ".py",
   "mimetype": "text/x-python",
   "name": "python",
   "nbconvert_exporter": "python",
   "pygments_lexer": "ipython3",
   "version": "3.8.10"
  }
 },
 "nbformat": 4,
 "nbformat_minor": 4
}
